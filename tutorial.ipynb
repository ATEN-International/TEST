{
 "cells": [
  {
   "cell_type": "markdown",
   "metadata": {},
   "source": [
    "# 簡介\n",
    "AI Voice是宏正自動科技的語音合成服務優聲學，使用本SDK是必須租用優聲學服務。租用服務請至`https://www.aivoice.com.tw`上留下聯絡資料。<br>\n",
    "宏正優聲學，推出限量企業體驗版之語音合成服務，提供六個優質美聲，大量語音合成，歡迎企業用戶填寫表格連繫, 了解更多企業體驗版方案細節!\n",
    "****"
   ]
  },
  {
   "cell_type": "markdown",
   "metadata": {},
   "source": [
    "## 事前準備\n",
    "1. 至語音合成網頁\"啟動\" `API Access Token`\n",
    "2. 至語音合成網頁\"複製\" `API_ACCESS_TOKEN`"
   ]
  },
  {
   "cell_type": "markdown",
   "metadata": {},
   "source": [
    "****\n",
    "## AI Vioce SDK 範例"
   ]
  },
  {
   "cell_type": "markdown",
   "metadata": {},
   "source": [
    "### 目前提供多位聲優：\n",
    "\n",
    "| 語音 | 聲優 | SDK 參數 |\n",
    "| :---: | :---: | :---: |\n",
    "| 知性女聲 | 嘉妮 | `NOETIC` |\n",
    "| 文學男聲 | 裕祥 | `LITERARY` |\n",
    "| 陽光男聲 | 力晨 | `CHEERFUL` |\n",
    "| 主持女聲 | 貝拉 | `HOST` |\n",
    "| 活潑女聲 | 貝拉 | `VIVID` |\n",
    "| 柔美女聲 | 貝拉 | `GRACEFUL` |"
   ]
  },
  {
   "attachments": {},
   "cell_type": "markdown",
   "metadata": {},
   "source": [
    "### 建立轉換器\n",
    "- 以下為建立轉換器的流程：\n",
    "    1. 代入token與伺服器位置，並建立轉換器設定檔\n",
    "    2. 修改設定檔內選用的語音(預設參數為`None`，未設定語音參數將不會進行轉換)\n",
    "    3. 代入設定檔並建立轉換器\n",
    "    4. 更新轉換器設定 (Optional)"
   ]
  },
  {
   "cell_type": "code",
   "execution_count": 2,
   "metadata": {},
   "outputs": [],
   "source": [
    "import ai_voice_sdk as aivoice\n",
    "\n",
    "token = 'API_ACCESS_TOKEN' # 改為語音網頁上的 API_ACCESS_TOKEN\n",
    "server = 'SERVER_URL' # 需要有帶\"https\"\n",
    "\n",
    "# 1.建立轉換器設定檔\n",
    "config = aivoice.ConverterConfig(token=token, server_url=server)\n",
    "\n",
    "# 2.選擇設定檔內選用的語音\n",
    "config.voice = aivoice.Voice.LITERARY\n",
    "\n",
    "# 3.建立轉換器\n",
    "converter = aivoice.VoiceConverter(config=config)\n",
    "\n",
    "# 4.更新轉換器設定\n",
    "new_config = aivoice.ConverterConfig(token=token, server_url=server)\n",
    "new_config.voice = aivoice.Voice.NOETIC\n",
    "converter.update_config(new_config)"
   ]
  },
  {
   "cell_type": "markdown",
   "metadata": {},
   "source": [
    "<br>\n",
    "\n",
    "### 加入文章\n",
    "1. 轉換器的文字以段落清單的形式儲存\n",
    "2. 以下有兩種方式加入文章"
   ]
  },
  {
   "cell_type": "markdown",
   "metadata": {},
   "source": [
    "方法1: 透過程式碼加入"
   ]
  },
  {
   "cell_type": "code",
   "execution_count": 3,
   "metadata": {},
   "outputs": [],
   "source": [
    "# 方法1: 透過程式碼加入\n",
    "# 參數 (str)     text，要加入的文字內容\n",
    "# 參數 (int) position，要加入的段落，預設為加入清單最後\n",
    "converter.text.add_text(text=\"歡迎體驗宏正優聲學，讓好聲音為您的應用提供加值服務。\", position=-1)"
   ]
  },
  {
   "cell_type": "markdown",
   "metadata": {},
   "source": [
    "方法2: 讀取文字檔加入"
   ]
  },
  {
   "cell_type": "code",
   "execution_count": 4,
   "metadata": {},
   "outputs": [],
   "source": [
    "# 方法2: 讀取文字檔加入\n",
    "# 參數 (str) file_path，要加入的文字內容\n",
    "# 參數 (str)    encode，編碼格式，預設為\"utf-8\"\n",
    "converter.text.open_text_file(file_path=\"examples/textfile.txt\", encode=\"utf-8\")"
   ]
  },
  {
   "cell_type": "markdown",
   "metadata": {},
   "source": [
    "<br>\n",
    "\n",
    "### 獲得/顯示文章\n",
    "- 文章以清單的形式儲存"
   ]
  },
  {
   "cell_type": "code",
   "execution_count": 5,
   "metadata": {},
   "outputs": [
    {
     "name": "stdout",
     "output_type": "stream",
     "text": [
      "['歡迎體驗宏正優聲學，讓好聲音為您的應用提供加值服務。', '歡迎體驗宏正優聲學，讓好聲音為您的應用提供加值服務。\\n宏正自動科技的人工智慧語音合成技術，帶來超逼真的合成語音：自然、真實，讓您拉近與客戶的距離，提高滿意度，帶來轉換率。\\n按下合成鍵之前，我們建議您先確認2個問題：\\n您的文章轉成語音之後，是好聽流暢的嗎？\\n您有將閱讀文，轉為聆聽文嗎？\\n微調一下文章結構，參考合成使用說明，讓文章看起來像閱讀文，也適合您的聆聽者。\\n有任何對我們的合成服務的建議，也請您不吝指教！\\nATEN 專注開發智慧製造及物聯網解決方案，堅持客戶優先的理念，也將持續實現承諾，提供客戶最佳的服務。\\n']\n",
      "\n",
      " 0 : 歡迎體驗宏正優聲學，讓好聲音為您的應用提供加值服務。\n",
      " 1 : 歡迎體驗宏正優聲學，讓好聲音為您的應用提供加值服務。\n",
      "宏正自動科技的人工智慧語音合成技術，帶來超逼真的合成語音：自然、真實，讓您拉近與客戶的距離，提高滿意度，帶來轉換率。\n",
      "按下合成鍵之前，我們建議您先確認2個問題：\n",
      "您的文章轉成語音之後，是好聽流暢的嗎？\n",
      "您有將閱讀文，轉為聆聽文嗎？\n",
      "微調一下文章結構，參考合成使用說明，讓文章看起來像閱讀文，也適合您的聆聽者。\n",
      "有任何對我們的合成服務的建議，也請您不吝指教！\n",
      "ATEN 專注開發智慧製造及物聯網解決方案，堅持客戶優先的理念，也將持續實現承諾，提供客戶最佳的服務。\n",
      "\n"
     ]
    }
   ],
   "source": [
    "# 印出文章清單\n",
    "print(f\"{converter.text.get_text()}\\n\")\n",
    "\n",
    "# 印出文章\n",
    "converter.text.show()"
   ]
  },
  {
   "cell_type": "markdown",
   "metadata": {},
   "source": [
    "<br>\n",
    "\n",
    "### 刪除文章內容\n",
    "- 刪除文章內容有以下兩種方法\n",
    "\n",
    "方法1: 刪除文章段落"
   ]
  },
  {
   "cell_type": "code",
   "execution_count": 6,
   "metadata": {},
   "outputs": [
    {
     "name": "stdout",
     "output_type": "stream",
     "text": [
      " 0 : 歡迎體驗宏正優聲學，讓好聲音為您的應用提供加值服務。\n",
      "宏正自動科技的人工智慧語音合成技術，帶來超逼真的合成語音：自然、真實，讓您拉近與客戶的距離，提高滿意度，帶來轉換率。\n",
      "按下合成鍵之前，我們建議您先確認2個問題：\n",
      "您的文章轉成語音之後，是好聽流暢的嗎？\n",
      "您有將閱讀文，轉為聆聽文嗎？\n",
      "微調一下文章結構，參考合成使用說明，讓文章看起來像閱讀文，也適合您的聆聽者。\n",
      "有任何對我們的合成服務的建議，也請您不吝指教！\n",
      "ATEN 專注開發智慧製造及物聯網解決方案，堅持客戶優先的理念，也將持續實現承諾，提供客戶最佳的服務。\n",
      "\n"
     ]
    }
   ],
   "source": [
    "# 參數 (int) position，要刪除的段落\n",
    "converter.text.delete_paragraph(position=0)\n",
    "# 印出文章\n",
    "converter.text.show()"
   ]
  },
  {
   "cell_type": "markdown",
   "metadata": {},
   "source": [
    "方法2: 清空文章"
   ]
  },
  {
   "cell_type": "code",
   "execution_count": 11,
   "metadata": {},
   "outputs": [
    {
     "name": "stdout",
     "output_type": "stream",
     "text": [
      "Text is empty.\n"
     ]
    }
   ],
   "source": [
    "# 清除文章所有內容\n",
    "converter.text.clear()\n",
    "# 印出文章\n",
    "converter.text.show()"
   ]
  },
  {
   "cell_type": "markdown",
   "metadata": {},
   "source": [
    "<br>\n",
    "\n",
    "### 合成語音\n",
    "- 合成語音有兩種使用方法："
   ]
  },
  {
   "cell_type": "markdown",
   "metadata": {},
   "source": [
    "方法1: 執行後不等待語音合成"
   ]
  },
  {
   "cell_type": "code",
   "execution_count": 7,
   "metadata": {},
   "outputs": [
    {
     "name": "stdout",
     "output_type": "stream",
     "text": [
      "Waitting for server...\n"
     ]
    }
   ],
   "source": [
    "# 方法1：執行後不等待語音合成\n",
    "\n",
    "# 參數 (int) interval_time，伺服器忙碌時，重試合成任務間隔時間，最小值=0 (不重試), 最大值=10\n",
    "# 參數 (bool) is_wait_speech，是否等待語音合成完成，如果為True，執行後會等待語音合成結束，其Result與get_speech(func)相同\n",
    "result = converter.run(interval_time=0, is_wait_speech=False)\n",
    "\n",
    "if result.status != aivoice.ConverterStatus.ConverVoiceStart:\n",
    "    if result.status == aivoice.ConverterStatus.ConverVoiceFail:\n",
    "        print(f\"Error message: {result.error_message}\")"
   ]
  },
  {
   "cell_type": "markdown",
   "metadata": {},
   "source": [
    "方法2: 執行後等待語音合成結束並將資料取回"
   ]
  },
  {
   "cell_type": "code",
   "execution_count": 8,
   "metadata": {},
   "outputs": [
    {
     "name": "stdout",
     "output_type": "stream",
     "text": [
      "Waitting for server...\n",
      "Get speech data success.\n"
     ]
    }
   ],
   "source": [
    "# 方法2: 執行後等待語音合成結束並將資料取回\n",
    "\n",
    "# 參數 (int)  interval_time，伺服器忙碌時，重試合成任務間隔時間，最小值=0 (不重試), 最大值=10\n",
    "# 參數 (bool) is_wait_speech，是否等待語音合成完成，如果為True，執行後會等待語音合成結束，Result與get_speech(func)相同\n",
    "result = converter.run(interval_time=1, is_wait_speech=True)\n",
    "\n",
    "if result.status == aivoice.ConverterStatus.GetSpeechSuccess:\n",
    "    print(\"Get speech data success.\")\n",
    "    # 將語音另存為\"aivoice.wav\"\n",
    "    result.save(\"aivoice\")\n",
    "elif result.status == aivoice.ConverterStatus.GetSpeechFail:\n",
    "    print(f\"Error message: {result.error_message}\")\n",
    "else:\n",
    "    print(f\"Converter status: {result.status.name}, Detail: {result.detail}\")\n",
    "    "
   ]
  },
  {
   "cell_type": "markdown",
   "metadata": {},
   "source": [
    "<br>\n",
    "\n",
    "### 確認語音合成狀態\n",
    "- 需要先執行過`(function) run`，才能夠執行"
   ]
  },
  {
   "cell_type": "code",
   "execution_count": 9,
   "metadata": {},
   "outputs": [
    {
     "name": "stdout",
     "output_type": "stream",
     "text": [
      "Convert success.\n"
     ]
    }
   ],
   "source": [
    "result = converter.check_status()\n",
    "\n",
    "if result.status == aivoice.ConverterStatus.ConverVoiceCompleted:\n",
    "    print(\"Convert success.\")\n",
    "else: \n",
    "    if result.status == aivoice.ConverterStatus.ConverVoiceRunning:\n",
    "        print(f\"Convert processing: {result.detail}\")\n",
    "    if result.status == aivoice.ConverterStatus.ConverVoiceFail:\n",
    "        print(f\"Error message: {result.error_message}\")"
   ]
  },
  {
   "cell_type": "markdown",
   "metadata": {},
   "source": [
    "<br>\n",
    "\n",
    "### 取得語音合成資料\n",
    "- 注：需要先執行過`(function) run`，才能夠執行"
   ]
  },
  {
   "cell_type": "code",
   "execution_count": 10,
   "metadata": {},
   "outputs": [
    {
     "name": "stdout",
     "output_type": "stream",
     "text": [
      "Get speech data success.\n"
     ]
    }
   ],
   "source": [
    "result = converter.get_speech()\n",
    "\n",
    "if result.status == aivoice.ConverterStatus.GetSpeechSuccess:\n",
    "    print(\"Get speech data success.\")\n",
    "    # 將語音另存為\"aivoice.wav\"\n",
    "    result.save(\"aivoice\")\n",
    "elif result.status == aivoice.ConverterStatus.GetSpeechFail:\n",
    "    print(f\"Error message: {result.error_message}\")\n",
    "else:\n",
    "    print(f\"Converter status: {result.status.name}, Detail: {result.detail}\")"
   ]
  },
  {
   "cell_type": "markdown",
   "metadata": {},
   "source": [
    "<br>\n",
    "\n",
    "### 進階應用\n",
    "1. 插入停頓\n",
    "2. 調整語速、音調、以及音量\n",
    "3. 修改發音\n",
    "4. 修改發音並且調整語速、音調、以及音量"
   ]
  },
  {
   "cell_type": "markdown",
   "metadata": {},
   "source": [
    "<br>\n",
    "\n",
    "- 插入停頓"
   ]
  },
  {
   "cell_type": "code",
   "execution_count": 12,
   "metadata": {},
   "outputs": [],
   "source": [
    "# 參數 (int) break_time，插入停頓時間(毫秒)\n",
    "# 參數 (int)   position，要插入停頓的段落\n",
    "\n",
    "# 在段落最後加入300毫秒的停頓\n",
    "converter.text.insert_break(break_time=300, position=-1)"
   ]
  },
  {
   "cell_type": "markdown",
   "metadata": {},
   "source": [
    "- 調整與速、音調、以及音量"
   ]
  },
  {
   "cell_type": "code",
   "execution_count": 13,
   "metadata": {},
   "outputs": [],
   "source": [
    "# 參數 (str)     text，要調整的文字內容\n",
    "# 參數 (float)   rate，調整語速 (0.8 ~ 1.2)\n",
    "# 參數 (int)    pitch，調整音調 (-2 ~ 2)\n",
    "# 參數 (float) volume，調整音量 (-6.0 ~ 6.0)\n",
    "# 參數 (int) position，要插入的段落\n",
    "\n",
    "# 在段落最後加入文字，並調整與速、音調、以及音量\n",
    "converter.text.insert_prosody(text=\"歡迎體驗宏正優聲學，讓好聲音為您的應用提供加值服務。\", rate=1.2, pitch=2, volume=-3.3, position=-1)"
   ]
  },
  {
   "cell_type": "markdown",
   "metadata": {},
   "source": [
    "- 修改發音"
   ]
  },
  {
   "cell_type": "code",
   "execution_count": 14,
   "metadata": {},
   "outputs": [],
   "source": [
    "# 參數 (str)     text，要修改發音的文字內容\n",
    "# 參數 (str)       ph，修改後的發音\n",
    "# 參數 (int) position，要插入的段落\n",
    "\n",
    "# 在段落最後加入文字，並修改文字內容的發音\n",
    "converter.text.insert_phoneme(text=\"大家好\", ph=\"ㄧㄡ ㄕㄥ ㄒㄩㄝˊ\", position=-1)"
   ]
  },
  {
   "cell_type": "markdown",
   "metadata": {},
   "source": [
    "- 修改發音並且調整語速、音調、以及音量"
   ]
  },
  {
   "cell_type": "code",
   "execution_count": 16,
   "metadata": {},
   "outputs": [],
   "source": [
    "# 參數 (str)     text，要修改發音的文字內容\n",
    "# 參數 (str)       ph，修改後的發音\n",
    "# 參數 (float)   rate，調整語速 (0.8 ~ 1.2)\n",
    "# 參數 (int)    pitch，調整音調 (-2 ~ 2)\n",
    "# 參數 (float) volume，調整音量 (-6.0 ~ 6.0)\n",
    "# 參數 (int) position，要插入的段落\n",
    "\n",
    "# 在段落1，插入修改發音後的文字內容，並且調整與速、音調、以及音量\n",
    "converter.text.insert_prosody_and_phoneme(text=\"優聲學\", ph=\"ㄉㄚˋ ㄐㄧㄚ ㄏㄠˇ\", rate=0.8, pitch=-2, volume=5.5, position=1)"
   ]
  },
  {
   "cell_type": "code",
   "execution_count": 17,
   "metadata": {},
   "outputs": [
    {
     "name": "stdout",
     "output_type": "stream",
     "text": [
      " 0 : <break time=\"300ms\"/>\n",
      " 1 : <prosody rate=\"0.8\" pitch=\"-2st\" volume=\"+5.5dB\"><phoneme alphabet=\"bopomo\" lang=\"TW\" ph=\"ㄉㄚˋ ㄐㄧㄚ ㄏㄠˇ\">優聲學</phoneme></prosody>\n",
      " 2 : <prosody rate=\"0.8\" pitch=\"-2st\" volume=\"+5.5dB\"><phoneme alphabet=\"bopomo\" lang=\"TW\" ph=\"ㄉㄚˋ ㄐㄧㄚ ㄏㄠˇ\">優聲學</phoneme></prosody>\n",
      " 3 : <prosody rate=\"1.2\" pitch=\"+2st\" volume=\"-3.3dB\">歡迎體驗宏正優聲學，讓好聲音為您的應用提供加值服務。</prosody>\n",
      " 4 : <phoneme alphabet=\"bopomo\" lang=\"TW\" ph=\"ㄧㄡ ㄕㄥ ㄒㄩㄝˊ\">大家好</phoneme>\n"
     ]
    }
   ],
   "source": [
    "# 印出文章\n",
    "converter.text.show()"
   ]
  }
 ],
 "metadata": {
  "kernelspec": {
   "display_name": "Python 3.7.9 ('env_name')",
   "language": "python",
   "name": "python3"
  },
  "language_info": {
   "codemirror_mode": {
    "name": "ipython",
    "version": 3
   },
   "file_extension": ".py",
   "mimetype": "text/x-python",
   "name": "python",
   "nbconvert_exporter": "python",
   "pygments_lexer": "ipython3",
   "version": "3.7.9"
  },
  "orig_nbformat": 4,
  "vscode": {
   "interpreter": {
    "hash": "51ea47dc1234ebd289d069146cf1ba2451aaa743d136fc3524676ad5857b66f4"
   }
  }
 },
 "nbformat": 4,
 "nbformat_minor": 2
}
